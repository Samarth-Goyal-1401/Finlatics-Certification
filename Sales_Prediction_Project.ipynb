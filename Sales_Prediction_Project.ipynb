{
  "nbformat": 4,
  "nbformat_minor": 0,
  "metadata": {
    "colab": {
      "provenance": []
    },
    "kernelspec": {
      "name": "python3",
      "display_name": "Python 3"
    },
    "language_info": {
      "name": "python"
    }
  },
  "cells": [
    {
      "cell_type": "markdown",
      "source": [
        "# IMPORTING LIBRARIES"
      ],
      "metadata": {
        "id": "HzHwDCyaVlKb"
      }
    },
    {
      "cell_type": "code",
      "execution_count": null,
      "metadata": {
        "id": "mpGYC-w5VfCx"
      },
      "outputs": [],
      "source": [
        "import pandas as pd\n",
        "import numpy as np\n",
        "import matplotlib.pyplot as plt\n",
        "from scipy.stats import pearsonr\n",
        "from sklearn.metrics import accuracy_score, confusion_matrix\n"
      ]
    },
    {
      "cell_type": "markdown",
      "source": [
        "# LOADING DATABASE"
      ],
      "metadata": {
        "id": "iwPCbN43l786"
      }
    },
    {
      "cell_type": "code",
      "source": [
        "df = pd.read_csv('advertising_sales_data.csv')\n",
        "\n",
        "x= df.iloc[:,1:4]\n",
        "y = df.iloc[:,-1]\n",
        "\n",
        "'''\n",
        "print(x)\n",
        "print(y)\n",
        "'''"
      ],
      "metadata": {
        "colab": {
          "base_uri": "https://localhost:8080/"
        },
        "collapsed": true,
        "id": "-VjL4pQOl_1K",
        "outputId": "c61f0e59-b950-4cfd-c7c4-02c0cce525dc"
      },
      "execution_count": null,
      "outputs": [
        {
          "output_type": "stream",
          "name": "stdout",
          "text": [
            "        TV  Radio  Newspaper\n",
            "0    230.1   37.8       69.2\n",
            "1     44.5   39.3       45.1\n",
            "2     17.2   45.9       69.3\n",
            "3    151.5   41.3       58.5\n",
            "4    180.8   10.8       58.4\n",
            "..     ...    ...        ...\n",
            "195   38.2    3.7       13.8\n",
            "196   94.2    4.9        8.1\n",
            "197  177.0    9.3        6.4\n",
            "198  283.6   42.0       66.2\n",
            "199  232.1    8.6        8.7\n",
            "\n",
            "[200 rows x 3 columns]\n",
            "0      22.1\n",
            "1      10.4\n",
            "2      12.0\n",
            "3      16.5\n",
            "4      17.9\n",
            "       ... \n",
            "195     7.6\n",
            "196    14.0\n",
            "197    14.8\n",
            "198    25.5\n",
            "199    18.4\n",
            "Name: Sales, Length: 200, dtype: float64\n"
          ]
        }
      ]
    },
    {
      "cell_type": "markdown",
      "source": [
        "# SPLITTING DATA"
      ],
      "metadata": {
        "id": "MCbtmrktntDz"
      }
    },
    {
      "cell_type": "code",
      "source": [
        "from sklearn.model_selection import train_test_split\n",
        "x_train, x_test, y_train, y_test = train_test_split(x,y, test_size=0.25, random_state=0)\n",
        "\n",
        "\n",
        "'''\n",
        "print(x_train)\n",
        "print(x_test)\n",
        "print(y_train)\n",
        "print(y_test)\n",
        "'''"
      ],
      "metadata": {
        "colab": {
          "base_uri": "https://localhost:8080/"
        },
        "collapsed": true,
        "id": "Rr2IBJa0nvCl",
        "outputId": "082dda11-e7e3-4585-eb19-02ab44050582"
      },
      "execution_count": null,
      "outputs": [
        {
          "output_type": "stream",
          "name": "stdout",
          "text": [
            "        TV  Radio  Newspaper\n",
            "71   109.8   14.3       31.7\n",
            "124  229.5   32.3       74.2\n",
            "184  253.8   21.3       30.0\n",
            "97   184.9   21.0       22.0\n",
            "149   44.7   25.8       20.6\n",
            "..     ...    ...        ...\n",
            "67   139.3   14.5       10.2\n",
            "192   17.2    4.1       31.6\n",
            "117   76.4    0.8       14.8\n",
            "47   239.9   41.5       18.5\n",
            "172   19.6   20.1       17.0\n",
            "\n",
            "[150 rows x 3 columns]\n",
            "        TV  Radio  Newspaper\n",
            "18    69.2   20.5       18.3\n",
            "170   50.0   11.6       18.4\n",
            "107   90.4    0.3       23.2\n",
            "98   289.7   42.3       51.2\n",
            "177  170.2    7.8       35.2\n",
            "182   56.2    5.7       29.7\n",
            "5      8.7   48.9       75.0\n",
            "146  240.1    7.3        8.7\n",
            "12    23.8   35.1       65.9\n",
            "152  197.6    NaN       14.2\n",
            "61   261.3   42.7       54.7\n",
            "125   87.2   11.8       25.9\n",
            "180  156.6    2.6        8.3\n",
            "154  187.8   21.1        9.5\n",
            "80    76.4   26.7       22.3\n",
            "7    120.2   19.6       11.6\n",
            "33   265.6   20.0        0.3\n",
            "130    0.7   39.6        8.7\n",
            "37    74.7   49.4       45.7\n",
            "74   213.4   24.6       13.1\n",
            "183  287.6   43.0       71.8\n",
            "145  140.3    1.9        9.0\n",
            "45   175.1   22.5       31.5\n",
            "159  131.7   18.4       34.6\n",
            "60    53.5    2.0       21.4\n",
            "123  123.1   34.6       12.4\n",
            "179  165.6   10.0       17.6\n",
            "185  205.0   45.1       19.6\n",
            "122  224.0    2.4       15.6\n",
            "44    25.1   25.7       43.3\n",
            "16    67.8   36.6      114.0\n",
            "55   198.9   49.4       60.0\n",
            "150  280.7   13.9       37.0\n",
            "111  241.7   38.0       23.2\n",
            "22    13.2   15.9       49.6\n",
            "189   18.7   12.1       23.4\n",
            "129   59.6   12.0       43.1\n",
            "4    180.8   10.8       58.4\n",
            "83    68.4   44.5       35.6\n",
            "106   25.0   11.0       29.7\n",
            "134   36.9   38.6       65.6\n",
            "66    31.5   24.6        2.2\n",
            "26   142.9   29.3       12.6\n",
            "113  209.6   20.6       10.7\n",
            "168  215.4   23.6       57.6\n",
            "63   102.7   29.6        8.4\n",
            "8      8.6    2.1        1.0\n",
            "75    16.9   43.7       89.4\n",
            "118  125.7   36.9       79.2\n",
            "143  104.6    5.7       34.4\n",
            "71     12.4\n",
            "124    19.7\n",
            "184    17.6\n",
            "97     20.5\n",
            "149    10.1\n",
            "       ... \n",
            "67     13.4\n",
            "192     5.9\n",
            "117     9.4\n",
            "47     23.2\n",
            "172     7.6\n",
            "Name: Sales, Length: 150, dtype: float64\n",
            "18     11.3\n",
            "170     8.4\n",
            "107    12.0\n",
            "98     25.4\n",
            "177    16.7\n",
            "182     8.7\n",
            "5       7.2\n",
            "146    18.2\n",
            "12      9.2\n",
            "152    16.6\n",
            "61     24.2\n",
            "125    10.6\n",
            "180    15.5\n",
            "154    20.6\n",
            "80     11.8\n",
            "7      13.2\n",
            "33     17.4\n",
            "130     1.6\n",
            "37     14.7\n",
            "74     17.0\n",
            "183    26.2\n",
            "145    10.3\n",
            "45     16.1\n",
            "159    12.9\n",
            "60      8.1\n",
            "123    15.2\n",
            "179    17.6\n",
            "185    22.6\n",
            "122    16.6\n",
            "44      8.5\n",
            "16     12.5\n",
            "55     23.7\n",
            "150    16.1\n",
            "111    21.8\n",
            "22      5.6\n",
            "189     6.7\n",
            "129     9.7\n",
            "4      17.9\n",
            "83     13.6\n",
            "106     7.2\n",
            "134    10.8\n",
            "66     11.0\n",
            "26     15.0\n",
            "113    20.9\n",
            "168    17.1\n",
            "63     14.0\n",
            "8       4.8\n",
            "75      8.7\n",
            "118    15.9\n",
            "143    10.4\n",
            "Name: Sales, dtype: float64\n"
          ]
        }
      ]
    },
    {
      "cell_type": "markdown",
      "source": [
        "# FEATURE SCALING"
      ],
      "metadata": {
        "id": "5cWM3O3eoBIH"
      }
    },
    {
      "cell_type": "code",
      "source": [
        "from sklearn.preprocessing import StandardScaler\n",
        "sc = StandardScaler()\n",
        "x_train = sc.fit_transform(x_train)\n",
        "x_test = sc.transform(x_test)\n",
        "\n",
        "'''\n",
        "print(x_train)\n",
        "print(x_test)\n",
        "'''"
      ],
      "metadata": {
        "colab": {
          "base_uri": "https://localhost:8080/"
        },
        "collapsed": true,
        "id": "TgzqfVxqoVAf",
        "outputId": "c26bbf3c-8477-4f27-84f7-6fe78710748e"
      },
      "execution_count": null,
      "outputs": [
        {
          "output_type": "stream",
          "name": "stdout",
          "text": [
            "[[-0.52286826 -0.60243407  0.09678234]\n",
            " [ 0.89568081  0.60984698  2.18119928]\n",
            " [ 1.18365694 -0.13099144  0.01340566]\n",
            " [ 0.36713204 -0.15119613 -0.37895517]\n",
            " [-1.29435986  0.17207882 -0.44761832]\n",
            " [-1.08578456 -0.71692728 -0.56042206]\n",
            " [ 1.64702594  0.34045119  0.66080104]\n",
            " [ 0.22018125 -0.34650807  0.04773724]\n",
            " [ 0.57570734 -0.06364249  0.09187783]\n",
            " [-1.73758238  0.3269814   0.57251985]\n",
            " [ 1.31875685 -1.37021207  0.65099202]\n",
            " [ 0.51763808 -1.3298027  -1.16858136]\n",
            " [ 0.76532125 -1.2018397  -0.11411161]\n",
            " [-0.07846066         nan -0.52118598]\n",
            " [ 0.20596021  1.10822918  0.39105297]\n",
            " [ 0.75584055  0.69066571  1.43571369]\n",
            " [ 1.28912968  0.37412566 -0.67813031]\n",
            " [ 0.11352343  0.91291724 -1.0950137 ]\n",
            " [-0.63426643 -0.91897412 -1.2813851 ]\n",
            " [-0.91987239  0.28657203 -0.6732258 ]\n",
            " [ 0.36713204  1.39109476 -1.37457079]\n",
            " [-0.23252196 -1.23551417 -1.001828  ]\n",
            " [ 1.41948924  0.38086056  1.47004526]\n",
            " [ 1.68850398  0.87924276  3.49070357]\n",
            " [-0.68404009 -0.5687596   0.44990709]\n",
            " [-0.52286826  1.65375565  1.0629709 ]\n",
            " [ 1.20261833  0.24616266 -1.1881994 ]\n",
            " [ 0.59466873  0.65025634  0.79812733]\n",
            " [ 1.02130003 -0.4407966  -0.33481458]\n",
            " [ 0.47141969  0.81862871  2.24986242]\n",
            " [ 0.44060743  0.36739077 -0.56532657]\n",
            " [-0.76107074 -0.89876944  0.29296276]\n",
            " [-1.31450634  0.17881371 -0.45252283]\n",
            " [-1.37139051 -1.31633291 -0.78112503]\n",
            " [-1.66884734 -1.53858443 -0.2023928 ]\n",
            " [ 1.01181933 -0.52161533 -0.11901612]\n",
            " [-1.62025877  1.52579265  1.94087827]\n",
            " [ 0.67288447  0.42126992 -1.001828  ]\n",
            " [-1.52071147  1.06108492 -1.001828  ]\n",
            " [ 0.27351017 -0.93917881 -1.1440588 ]\n",
            " [ 0.62785116 -0.99979286 -0.16315671]\n",
            " [-1.04075126 -1.17490012 -0.27105594]\n",
            " [-0.05001857  0.8320985  -1.16367684]\n",
            " [-0.29059122 -1.18163502  0.0771643 ]\n",
            " [-0.70774182 -1.23551417 -1.06068213]\n",
            " [ 1.45504185 -1.41062144 -0.2955785 ]\n",
            " [ 1.45741203  1.7278395   0.59213789]\n",
            " [-1.73165695  1.05435003  1.02373481]\n",
            " [ 1.14928942  0.89271255  2.08801358]\n",
            " [ 0.25810404 -0.52835023 -1.34023922]\n",
            " [-1.68543856  0.91965213  0.75889125]\n",
            " [-0.92935308 -0.83815539 -1.16367684]\n",
            " [ 0.54370999 -1.35674228  0.23901314]\n",
            " [ 0.90279133  0.98026618  1.93597376]\n",
            " [-0.55131035 -0.62263876 -0.92335583]\n",
            " [ 0.8518326  -1.01326265  1.31310093]\n",
            " [ 0.11115325  0.56270271  1.13653855]\n",
            " [-0.27044474  1.31701092 -0.04054395]\n",
            " [ 0.62666608 -1.21530949 -0.50647245]\n",
            " [ 0.27351017  0.68393082  0.44009807]\n",
            " [ 0.74517477  1.39109476 -0.12392063]\n",
            " [-1.03127056 -0.77754133  0.34691237]\n",
            " [ 0.86842381 -0.50141065  0.98940324]\n",
            " [ 0.46549425 -0.32630339  1.76431589]\n",
            " [-0.66863396 -1.05367202 -1.10482272]\n",
            " [-0.80847422  0.84556829  0.95997618]\n",
            " [ 0.88145977 -0.42732681 -0.17296574]\n",
            " [-0.17089744 -1.42409122 -0.15334769]\n",
            " [-1.25169673  1.5998765  -1.04106408]\n",
            " [ 0.76413616  0.30004182  1.16106111]\n",
            " [ 0.49156616  1.64702076  1.13653855]\n",
            " [-1.76009903  0.4482095  -0.99692349]\n",
            " [ 0.99878338  0.74454487 -1.19800842]\n",
            " [ 0.74043442  1.24292708  0.48423866]\n",
            " [ 0.81153964 -1.27592354  0.98449873]\n",
            " [-1.49819482 -1.4577657  -0.44271381]\n",
            " [-0.028687    1.2159875   1.41119114]\n",
            " [-0.1744527  -0.60243407 -0.2023928 ]\n",
            " [-0.43517183 -0.57549449 -1.19310391]\n",
            " [ 1.53681285  1.26313176  1.78883844]\n",
            " [-1.14266873  0.64352145 -0.30538752]\n",
            " [ 0.98930268  0.28657203 -0.91845132]\n",
            " [ 0.7060669   1.33048071  0.19977706]\n",
            " [-1.60129738 -0.10405186  1.01392579]\n",
            " [-1.77550516 -0.78427623 -1.17839038]\n",
            " [ 0.1253743  -0.15793102  0.86679048]\n",
            " [-0.71129709  1.36415518  1.0188303 ]\n",
            " [-1.48515886 -1.46450059  0.16054098]\n",
            " [ 0.92649307 -0.98632307 -1.03125506]\n",
            " [ 0.72028795  0.05085072 -1.26176705]\n",
            " [-1.59418686 -0.48794086 -0.36424164]\n",
            " [ 1.49651989 -0.88529965 -0.40838224]\n",
            " [ 1.62095402 -1.28939333 -1.04106408]\n",
            " [-0.21000531 -0.27242423 -0.64379874]\n",
            " [-1.00638374 -0.93917881 -1.41380688]\n",
            " [-1.29673004  1.0812896   0.75398674]\n",
            " [-0.14956587  0.23942777  0.80793635]\n",
            " [ 0.40861008 -0.34650807 -0.2023928 ]\n",
            " [ 1.65532155  0.30004182 -1.36966628]\n",
            " [-0.18985883  1.55946713  1.43571369]\n",
            " [-1.72454642  0.26636735 -1.35495275]\n",
            " [ 0.17159269 -1.08734649 -0.83017013]\n",
            " [ 1.51074094  1.10149429  1.27876936]\n",
            " [-1.31332125  0.23269287  0.26353569]\n",
            " [ 0.78072738  0.69066571  0.75398674]\n",
            " [ 0.33987504  1.54599734  1.42100016]\n",
            " [-0.04883348 -1.47797038 -0.26615143]\n",
            " [ 0.78665281  1.73457439 -1.30100314]\n",
            " [-0.68996552 -1.47123549 -1.0950137 ]\n",
            " [ 1.12440259  0.25963245 -0.33481458]\n",
            " [-0.89735574  1.58640671  0.23410863]\n",
            " [-0.39013852 -0.99979286  0.93054912]\n",
            " [-0.48613057 -0.39365234  0.43519356]\n",
            " [-1.61196316  0.96679639 -0.39857322]\n",
            " [-0.873654   -1.56552401 -1.00673251]\n",
            " [ 1.11966225  0.46841419 -0.46233185]\n",
            " [-0.67218922 -1.46450059  0.01340566]\n",
            " [ 0.78902299  0.67046103  0.40086199]\n",
            " [ 1.54510846 -0.85162518 -1.1440588 ]\n",
            " [ 1.05803772  1.73457439  0.71475066]\n",
            " [-0.98742234 -0.48794086  0.54309279]\n",
            " [-0.22185618  1.24292708  0.79322282]\n",
            " [-0.93172326 -0.19834039  0.13601842]\n",
            " [-0.44939287 -1.04693712 -0.32500556]\n",
            " [-0.93409343  0.79168913  1.12672953]\n",
            " [-1.37376069  1.14863855 -0.87431073]\n",
            " [ 0.1526313   1.26313176 -1.2813851 ]\n",
            " [-1.50649043  0.65699124 -0.51137696]\n",
            " [-0.39606396  0.35392098 -0.76150699]\n",
            " [ 1.29149985 -1.3298027  -0.50156793]\n",
            " [ 0.95493516 -1.33653759  2.70107739]\n",
            " [ 1.01774477 -1.28939333  0.35181688]\n",
            " [ 1.56525494 -0.62937365 -1.27648059]\n",
            " [ 0.81153964 -1.33653759 -0.8154566 ]\n",
            " [-1.35598438  1.20251771 -1.17348587]\n",
            " [ 0.87790451  0.97353129  0.11149587]\n",
            " [ 0.67406955  1.77498376  0.39105297]\n",
            " [-0.95423991 -0.42059191 -0.82526562]\n",
            " [-0.77766195  0.15187414  2.1419632 ]\n",
            " [ 0.53541438  0.49535377  0.44009807]\n",
            " [-0.51220248  1.16884324  1.64170313]\n",
            " [ 1.33890333  1.38435987 -1.21272195]\n",
            " [ 0.98930268 -1.22204438 -0.30538752]\n",
            " [ 0.54370999 -1.39041675 -0.41819126]\n",
            " [ 0.40268464 -0.40712212 -0.5800401 ]\n",
            " [-0.17326761 -0.58896428 -0.95768741]\n",
            " [-1.62025877 -1.28939333  0.09187783]\n",
            " [-0.9186873  -1.51164486 -0.73207993]\n",
            " [ 1.01892986  1.22945729 -0.55061304]\n",
            " [-1.59181669 -0.21181018 -0.6241807 ]]\n",
            "[[-1.00401356e+00 -1.84870600e-01 -5.60422060e-01]\n",
            " [-1.23155025e+00 -7.84276228e-01 -5.55517550e-01]\n",
            " [-7.52775129e-01 -1.54531933e+00 -3.20101048e-01]\n",
            " [ 1.60910315e+00  1.28333645e+00  1.05316188e+00]\n",
            " [ 1.92924254e-01 -1.04020223e+00  2.68440205e-01]\n",
            " [-1.15807486e+00 -1.18163502e+00 -1.30786945e-03]\n",
            " [-1.72099116e+00  1.72783950e+00  2.22043536e+00]\n",
            " [ 1.02130003e+00 -1.07387670e+00 -1.03125506e+00]\n",
            " [-1.54204303e+00  7.98424027e-01  1.77412491e+00]\n",
            " [ 5.17638077e-01             nan -7.61506988e-01]\n",
            " [ 1.27253846e+00  1.31027602e+00  1.22481974e+00]\n",
            " [-7.90697911e-01 -7.70806439e-01 -1.87679266e-01]\n",
            " [ 3.17524296e-02 -1.39041675e+00 -1.05087310e+00]\n",
            " [ 4.01499557e-01 -1.44461231e-01 -9.92018979e-01]\n",
            " [-9.18687301e-01  2.32692872e-01 -3.64241642e-01]\n",
            " [-3.99619219e-01 -2.45484652e-01 -8.89024260e-01]\n",
            " [ 1.32349720e+00 -2.18545073e-01 -1.44323394e+00]\n",
            " [-1.81579812e+00  1.10149429e+00 -1.03125506e+00]\n",
            " [-9.38833779e-01  1.76151397e+00  7.83413802e-01]\n",
            " [ 7.04881815e-01  9.12600832e-02 -8.15456603e-01]\n",
            " [ 1.58421633e+00  1.33048071e+00  2.06349103e+00]\n",
            " [-1.61416743e-01 -1.43756101e+00 -1.01654153e+00]\n",
            " [ 2.50993515e-01 -5.01727055e-02  8.69733186e-02]\n",
            " [-2.63334220e-01 -3.26303388e-01  2.39013142e-01]\n",
            " [-1.19007221e+00 -1.43082612e+00 -4.08382236e-01]\n",
            " [-3.65251697e-01  7.64749553e-01 -8.49788176e-01]\n",
            " [ 1.38410255e-01 -8.92034543e-01 -5.94753633e-01]\n",
            " [ 6.05334511e-01  1.47191350e+00 -4.96663424e-01]\n",
            " [ 8.30501031e-01 -1.40388654e+00 -6.92843842e-01]\n",
            " [-1.52663690e+00  1.65343925e-01  6.65705551e-01]\n",
            " [-1.02060478e+00  8.99447448e-01  4.13319444e+00]\n",
            " [ 5.33044208e-01  1.76151397e+00  1.48475880e+00]\n",
            " [ 1.50244533e+00 -6.29373650e-01  3.56721393e-01]\n",
            " [ 1.04026142e+00  9.93735973e-01 -3.20101048e-01]\n",
            " [-1.66766225e+00 -4.94675756e-01  9.74689709e-01]\n",
            " [-1.60248247e+00 -7.50601755e-01 -3.10292028e-01]\n",
            " [-1.11778191e+00 -7.57336649e-01  6.55896530e-01]\n",
            " [ 3.18543471e-01 -8.38155386e-01  1.40628663e+00]\n",
            " [-1.01349426e+00  1.43150413e+00  2.88058247e-01]\n",
            " [-1.52782199e+00 -8.24685596e-01 -1.30786945e-03]\n",
            " [-1.38679664e+00  1.03414534e+00  1.75941138e+00]\n",
            " [-1.45079134e+00  9.12600832e-02 -1.35004824e+00]\n",
            " [-1.30604482e-01  4.07800134e-01 -8.39979156e-01]\n",
            " [ 6.59848511e-01 -1.78135705e-01 -9.33164854e-01]\n",
            " [ 7.28583554e-01  2.39111362e-02  1.36705054e+00]\n",
            " [-6.07009434e-01  4.28004818e-01 -1.04596859e+00]\n",
            " [-1.72217625e+00 -1.42409122e+00 -1.40890237e+00]\n",
            " [-1.62381403e+00  1.37762497e+00  2.92668487e+00]\n",
            " [-3.34439437e-01  9.19652132e-01  2.42642480e+00]\n",
            " [-5.84492782e-01 -1.18163502e+00  2.29204121e-01]]\n"
          ]
        }
      ]
    },
    {
      "cell_type": "markdown",
      "source": [
        "# HANDLING MISSING VALUES"
      ],
      "metadata": {
        "id": "uRSmQzSVplcL"
      }
    },
    {
      "cell_type": "code",
      "source": [
        "from sklearn.impute import SimpleImputer\n",
        "imputer = SimpleImputer(missing_values=np.nan, strategy='mean')\n",
        "imputer.fit(x_train[:,0:1])\n",
        "x_train[:,0:1] = imputer.transform(x_train[:,0:1])\n",
        "x_test[:,0:1] = imputer.transform(x_test[:,0:1])\n",
        "\n",
        "'''\n",
        "print(x_train)\n",
        "print(x_test)\n",
        "'''"
      ],
      "metadata": {
        "colab": {
          "base_uri": "https://localhost:8080/",
          "height": 36
        },
        "id": "hUhioacqpoiG",
        "outputId": "5f7c6924-c4fc-4936-fa37-33be80df0f1c"
      },
      "execution_count": null,
      "outputs": [
        {
          "output_type": "execute_result",
          "data": {
            "text/plain": [
              "'\\nprint(x_train)\\nprint(x_test)\\n'"
            ],
            "application/vnd.google.colaboratory.intrinsic+json": {
              "type": "string"
            }
          },
          "metadata": {},
          "execution_count": 26
        }
      ]
    },
    {
      "cell_type": "markdown",
      "source": [
        "# Average Amount Spent on TV Advertising"
      ],
      "metadata": {
        "id": "lyGiDrV9ol9d"
      }
    },
    {
      "cell_type": "code",
      "source": [
        "df = pd.read_csv('advertising_sales_data.csv')\n",
        "average_tv_spend = df['TV'].mean()\n",
        "print(f\"The average amount spent on TV advertising is: ${average_tv_spend:.2f}\")\n"
      ],
      "metadata": {
        "colab": {
          "base_uri": "https://localhost:8080/"
        },
        "id": "95rPa3PFrpoS",
        "outputId": "d3cc2023-e68d-4865-d30d-98b40fc01116"
      },
      "execution_count": null,
      "outputs": [
        {
          "output_type": "stream",
          "name": "stdout",
          "text": [
            "The average amount spent on TV advertising is: $147.04\n"
          ]
        }
      ]
    },
    {
      "cell_type": "markdown",
      "source": [
        "\n",
        "# Correlation Between Radio Advertising Expenditure and Product Sales\n"
      ],
      "metadata": {
        "id": "PCg3v8uUsKSO"
      }
    },
    {
      "cell_type": "code",
      "source": [
        "df = pd.read_csv('advertising_sales_data.csv')\n",
        "\n",
        "# Checking for infinite values\n",
        "df.isin([np.inf, -np.inf]).sum()\n",
        "\n",
        "# Checking for missing values\n",
        "df.isna().sum()\n",
        "\n",
        "# Handling infinite values |\n",
        "df.replace([np.inf, -np.inf], np.nan, inplace=True)\n",
        "\n",
        "# Handle missing values\n",
        "df.dropna(inplace=True)\n",
        "\n",
        "# Calculate Pearson correlation\n",
        "corr_radio_sales, p_value_radio_sales = pearsonr(df['Radio'], df['Sales'])\n",
        "print(f\"Pearson correlation coefficient between radio advertising expenditure and product sales: {corr_radio_sales:.2f}\")\n",
        "\n"
      ],
      "metadata": {
        "colab": {
          "base_uri": "https://localhost:8080/"
        },
        "id": "nnt2OjTXsk68",
        "outputId": "82551cd5-4a77-4793-8062-c24a1e27ee1a"
      },
      "execution_count": null,
      "outputs": [
        {
          "output_type": "stream",
          "name": "stdout",
          "text": [
            "Pearson correlation coefficient between radio advertising expenditure and product sales: 0.35\n"
          ]
        }
      ]
    },
    {
      "cell_type": "markdown",
      "source": [
        "# Advertising Medium with the Highest Impact on Sales"
      ],
      "metadata": {
        "id": "ocySbojStoSA"
      }
    },
    {
      "cell_type": "code",
      "source": [
        "from sklearn.linear_model import LinearRegression\n",
        "\n",
        "X = df[['TV','Radio','Newspaper']]\n",
        "y = df['Sales']\n",
        "\n",
        "# Create and fit the model\n",
        "model = LinearRegression()\n",
        "model.fit(X, y)\n",
        "\n",
        "# Get the coefficients\n",
        "coefficients = pd.Series(model.coef_, index=X.columns)\n",
        "print(\"Coefficients:\")\n",
        "print(coefficients)\n",
        "\n",
        "# Determine the advertising medium with the highest impact\n",
        "max_impact = coefficients.abs().idxmax()\n",
        "print(f\"The advertising medium with the highest impact on sales is: {max_impact}\")\n"
      ],
      "metadata": {
        "colab": {
          "base_uri": "https://localhost:8080/"
        },
        "id": "U_gjm7T2tory",
        "outputId": "020f070a-f633-4c2b-ba81-b508745a7b83"
      },
      "execution_count": null,
      "outputs": [
        {
          "output_type": "stream",
          "name": "stdout",
          "text": [
            "Coefficients:\n",
            "TV           0.054494\n",
            "Radio        0.107180\n",
            "Newspaper   -0.000019\n",
            "dtype: float64\n",
            "The advertising medium with the highest impact on sales is: Radio\n"
          ]
        }
      ]
    },
    {
      "cell_type": "markdown",
      "source": [
        "# Linear Regression Model and Visualization"
      ],
      "metadata": {
        "id": "HxNDlAyVuh6h"
      }
    },
    {
      "cell_type": "code",
      "source": [
        "# Predicting sales using the linear regression model\n",
        "predictions = model.predict(X)\n",
        "\n",
        "# Plotting the actual vs. predicted sales\n",
        "plt.figure(figsize=(10, 6))\n",
        "plt.scatter(y, predictions, alpha=0.5)\n",
        "plt.plot([y.min(), y.max()], [y.min(), y.max()], 'r--')\n",
        "plt.xlabel('Actual Sales')\n",
        "plt.ylabel('Predicted Sales')\n",
        "plt.title('Actual vs. Predicted Sales')\n",
        "plt.show()\n"
      ],
      "metadata": {
        "colab": {
          "base_uri": "https://localhost:8080/",
          "height": 564
        },
        "id": "ChV7Jr9Kuppf",
        "outputId": "504c6ecf-65d6-49d7-b430-45e34452b1df"
      },
      "execution_count": null,
      "outputs": [
        {
          "output_type": "display_data",
          "data": {
            "text/plain": [
              "<Figure size 1000x600 with 1 Axes>"
            ],
            "image/png": "[encoded data removed]"
          },
          "metadata": {}
        }
      ]
    },
    {
      "cell_type": "markdown",
      "source": [
        "# Predicting Sales for New Advertising Expenditures"
      ],
      "metadata": {
        "id": "p-9PHqlpvDNZ"
      }
    },
    {
      "cell_type": "code",
      "source": [
        "new_ad_spend = [[200, 40, 50]]\n",
        "predicted_sales = model.predict(new_ad_spend)\n",
        "print(f\"Predicted sales for $200 on TV, $40 on Radio, and $50 on Newspaper: {predicted_sales[0]:.2f}\")\n"
      ],
      "metadata": {
        "colab": {
          "base_uri": "https://localhost:8080/"
        },
        "id": "Cr_d0lhdvNMB",
        "outputId": "dfebb8fc-872b-41f1-fe20-b7d6614afe64"
      },
      "execution_count": null,
      "outputs": [
        {
          "output_type": "stream",
          "name": "stdout",
          "text": [
            "Predicted sales for $200 on TV, $40 on Radio, and $50 on Newspaper: 19.82\n"
          ]
        },
        {
          "output_type": "stream",
          "name": "stderr",
          "text": [
            "/usr/local/lib/python3.10/dist-packages/sklearn/base.py:439: UserWarning: X does not have valid feature names, but LinearRegression was fitted with feature names\n",
            "  warnings.warn(\n"
          ]
        }
      ]
    },
    {
      "cell_type": "markdown",
      "source": [
        "#Performance Change When Dataset is Normalized"
      ],
      "metadata": {
        "id": "voxMMX9Lva5Q"
      }
    },
    {
      "cell_type": "code",
      "source": [
        "from sklearn.preprocessing import StandardScaler\n",
        "from sklearn.metrics import mean_squared_error\n",
        "\n",
        "# Normalizing the data\n",
        "scaler = StandardScaler()\n",
        "X_scaled = scaler.fit_transform(X)\n",
        "\n",
        "# Fitting a linear regression model to the normalized data\n",
        "model_scaled = LinearRegression()\n",
        "model_scaled.fit(X_scaled, y)\n",
        "\n",
        "# Predicting sales and evaluate performance\n",
        "predictions_scaled = model_scaled.predict(X_scaled)\n",
        "mse_scaled = mean_squared_error(y, predictions_scaled)\n",
        "print(f\"Mean Squared Error (normalized data): {mse_scaled:.2f}\")\n",
        "\n",
        "# Comparing with the original model's performance\n",
        "predictions_original = model.predict(X)\n",
        "mse_original = mean_squared_error(y, predictions_original)\n",
        "print(f\"Mean Squared Error (original data): {mse_original:.2f}\")\n"
      ],
      "metadata": {
        "colab": {
          "base_uri": "https://localhost:8080/"
        },
        "id": "iFCsHFqIvgRQ",
        "outputId": "ce1738be-31aa-4aea-dd39-60d5e80b43f6"
      },
      "execution_count": null,
      "outputs": [
        {
          "output_type": "stream",
          "name": "stdout",
          "text": [
            "Mean Squared Error (normalized data): 2.72\n",
            "Mean Squared Error (original data): 2.72\n"
          ]
        }
      ]
    },
    {
      "cell_type": "markdown",
      "source": [
        "#  Impact on Sales Prediction Using Only Radio and Newspaper Advertising Expenditures"
      ],
      "metadata": {
        "id": "EOUn-KVAwB9h"
      }
    },
    {
      "cell_type": "code",
      "source": [
        "X_radio_newspaper = df[['Radio', 'Newspaper']]\n",
        "\n",
        "model_radio_newspaper = LinearRegression()\n",
        "model_radio_newspaper.fit(X_radio_newspaper, y)\n",
        "\n",
        "# Predicting sales\n",
        "predictions_radio_newspaper = model_radio_newspaper.predict(X_radio_newspaper)\n",
        "\n",
        "# Evaluating performance\n",
        "mse_radio_newspaper = mean_squared_error(y, predictions_radio_newspaper)\n",
        "print(f\"Mean Squared Error (using only Radio and Newspaper): {mse_radio_newspaper:.2f}\")\n"
      ],
      "metadata": {
        "colab": {
          "base_uri": "https://localhost:8080/"
        },
        "id": "bBjWgES8wE5w",
        "outputId": "c0f8cd9c-7032-4ede-bdcf-75426609675a"
      },
      "execution_count": null,
      "outputs": [
        {
          "output_type": "stream",
          "name": "stdout",
          "text": [
            "Mean Squared Error (using only Radio and Newspaper): 24.58\n"
          ]
        }
      ]
    }
  ]
}